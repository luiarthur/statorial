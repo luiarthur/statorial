{
 "cells": [
  {
   "cell_type": "code",
   "execution_count": 7,
   "metadata": {},
   "outputs": [],
   "source": [
    "import torch\n",
    "from torch.distributions import Normal, Gamma\n",
    "from torch.distributions.log_normal import LogNormal\n",
    "\n",
    "import numpy as np\n",
    "import matplotlib.pyplot as plt\n",
    "import datetime\n",
    "\n",
    "import advi\n",
    "import Timer\n",
    "\n",
    "# Set default type to float64 (instead of float32)\n",
    "torch.set_default_dtype(torch.float64)"
   ]
  },
  {
   "cell_type": "code",
   "execution_count": 8,
   "metadata": {},
   "outputs": [],
   "source": [
    "def log_prior_plus_logabsdet_J(real_params, params):\n",
    "    # log prior for beta, evaluated at sampled values for beta\n",
    "    lp_b = Normal(0, 1).log_prob(real_params['beta']).sum()\n",
    "\n",
    "    # log prior sig + log jacobian\n",
    "    lp_log_sig = (Gamma(1, 1).log_prob(params['sig']) + real_params['sig']).sum()\n",
    "\n",
    "    return lp_b + lp_log_sig\n",
    "\n",
    "def loglike(y, x, params, full_data_size):\n",
    "    beta = params['beta']\n",
    "    sig = params['sig']\n",
    "    return Normal(x.matmul(beta), sig).log_prob(y).mean(0) * full_data_size\n",
    "\n",
    "def log_q(model_params, real_params):\n",
    "    out = 0.0\n",
    "    for key in model_params:\n",
    "        out += model_params[key].log_q(real_params[key])\n",
    "    return out\n",
    "\n",
    "def elbo(y, x, model_params, full_data_size):\n",
    "    real_params = {}\n",
    "    for key in model_params:\n",
    "        real_params[key] = model_params[key].rsample()\n",
    "\n",
    "    params = {'beta': real_params['beta'],\n",
    "              'sig': real_params['sig'].exp()}\n",
    "\n",
    "    out = loglike(y, x, params, full_data_size)\n",
    "    out += log_prior_plus_logabsdet_J(real_params, params) \n",
    "    out -= log_q(model_params, real_params)\n",
    "\n",
    "    return out"
   ]
  },
  {
   "cell_type": "code",
   "execution_count": 9,
   "metadata": {},
   "outputs": [],
   "source": [
    "# set random number generator seeds for reproducibility\n",
    "torch.manual_seed(1)\n",
    "np.random.seed(0)"
   ]
  },
  {
   "cell_type": "code",
   "execution_count": 10,
   "metadata": {},
   "outputs": [
    {
     "data": {
      "image/png": "[encoded data removed]",
      "text/plain": [
       "<Figure size 432x288 with 1 Axes>"
      ]
     },
     "metadata": {
      "needs_background": "light"
     },
     "output_type": "display_data"
    }
   ],
   "source": [
    "# Generate data\n",
    "N = 1000\n",
    "x = torch.stack([torch.ones(N), torch.randn(N)], -1)\n",
    "k = x.shape[1]\n",
    "beta = torch.tensor([2., -3.])\n",
    "sig = 0.5\n",
    "y = Normal(x.matmul(beta), sig).rsample()\n",
    "\n",
    "# Plot data\n",
    "plt.scatter(x[:, 1].numpy(), y.numpy()); plt.show()"
   ]
  },
  {
   "cell_type": "code",
   "execution_count": 11,
   "metadata": {},
   "outputs": [
    {
     "name": "stdout",
     "output_type": "stream",
     "text": [
      "2019-02-25 22:10:21.921759 | 100/1000 | elbo: -2.6591570381372955\n",
      "2019-02-25 22:10:22.042322 | 200/1000 | elbo: -1.9178960830274894\n",
      "2019-02-25 22:10:22.172639 | 300/1000 | elbo: -1.0809662443934889\n",
      "2019-02-25 22:10:22.298342 | 400/1000 | elbo: -1.066108971341221\n",
      "2019-02-25 22:10:22.420524 | 500/1000 | elbo: -0.8663142299367079\n",
      "2019-02-25 22:10:22.530850 | 600/1000 | elbo: -0.9788739108056087\n",
      "2019-02-25 22:10:22.656989 | 700/1000 | elbo: -0.7890816868714304\n",
      "2019-02-25 22:10:22.777257 | 800/1000 | elbo: -0.7588138921161178\n",
      "2019-02-25 22:10:22.903715 | 900/1000 | elbo: -0.787416569401845\n",
      "2019-02-25 22:10:23.027662 | 1000/1000 | elbo: -0.7778341854372927\n",
      "LinReg time: 1s\n"
     ]
    }
   ],
   "source": [
    "model_params = {'beta': advi.ModelParam(size=k), 'sig': advi.ModelParam(size=1)}\n",
    "optimizer = torch.optim.Adam([model_params[key].vp for key in model_params], lr=.1)\n",
    "elbo_hist = []\n",
    "\n",
    "max_iter = 1000\n",
    "minibatch_size = 100\n",
    "torch.manual_seed(1)\n",
    "with Timer.Timer('LinReg'):\n",
    "    for t in range(max_iter):\n",
    "        sample_with_replacement = minibatch_size > N\n",
    "        idx = np.random.choice(N, minibatch_size, replace=sample_with_replacement)\n",
    "        loss = -elbo(y[idx], x[idx, :], model_params, full_data_size=N) / N\n",
    "        elbo_hist.append(-loss.item())\n",
    "        optimizer.zero_grad()\n",
    "        loss.backward()\n",
    "        optimizer.step()\n",
    "\n",
    "        if (t + 1) % (max_iter / 10) == 0:\n",
    "            now = datetime.datetime.now()\n",
    "            print('{} | {}/{} | elbo: {}'.format(now, t + 1, max_iter, elbo_hist[-1]))"
   ]
  },
  {
   "cell_type": "code",
   "execution_count": 12,
   "metadata": {},
   "outputs": [
    {
     "data": {
      "image/png": "[encoded data removed]",
      "text/plain": [
       "<Figure size 432x288 with 1 Axes>"
      ]
     },
     "metadata": {
      "needs_background": "light"
     },
     "output_type": "display_data"
    },
    {
     "name": "stdout",
     "output_type": "stream",
     "text": [
      "sig mean: 0.5305617416375544 | sig sd: 0.07486571057122324\n",
      "beta mean: [ 1.9040693  -2.96134387]\n",
      "beta sd: [0.0633083  0.02727116]\n"
     ]
    }
   ],
   "source": [
    "# Inspect posterior\n",
    "nsamps = 1000\n",
    "\n",
    "plt.plot(elbo_hist)\n",
    "plt.show()\n",
    "\n",
    "sig_post = model_params['sig'].rsample([nsamps]).exp().detach().numpy()\n",
    "print('sig mean: {} | sig sd: {}'.format(sig_post.mean(), sig_post.std()))\n",
    "print('beta mean: {}'.format(model_params['beta'].vp[0].detach().numpy()))\n",
    "print('beta sd: {}'.format(model_params['beta'].vp[1].exp().detach().numpy()))"
   ]
  },
  {
   "cell_type": "code",
   "execution_count": null,
   "metadata": {},
   "outputs": [],
   "source": []
  }
 ],
 "metadata": {
  "kernelspec": {
   "display_name": "Python 3",
   "language": "python",
   "name": "python3"
  },
  "language_info": {
   "codemirror_mode": {
    "name": "ipython",
    "version": 3
   },
   "file_extension": ".py",
   "mimetype": "text/x-python",
   "name": "python",
   "nbconvert_exporter": "python",
   "pygments_lexer": "ipython3",
   "version": "3.6.7"
  }
 },
 "nbformat": 4,
 "nbformat_minor": 2
}
