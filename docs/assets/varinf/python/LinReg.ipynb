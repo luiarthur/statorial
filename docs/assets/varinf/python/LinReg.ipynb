{
 "cells": [
  {
   "cell_type": "markdown",
   "metadata": {},
   "source": [
    "## Intro \n",
    "\n",
    "In this post, I'll demonstrate how to fit a Bayesian linear model using ADVI in this tutorial. Note that\n",
    "the link to the repository containing this jupyter notebook is included above.\n",
    "\n",
    "ADVI is a way of implementing variational inference without having to manually compute derivatives, \n",
    "in the presence of automatic differentiation libraries. It is typically faster, and easier to implement\n",
    "than tradititional MCMC methods. While, MCMC is still considered the gold standard in Bayesian applications,\n",
    "variational inference enables the exploration of many models quickly. PyTorch is a great python library \n",
    "for these types of implementations, as it supports the creation of complex computational graphs and automatic \n",
    "differentiation.\n",
    "\n",
    "***"
   ]
  },
  {
   "cell_type": "markdown",
   "metadata": {},
   "source": [
    "## Implementation\n",
    "\n",
    "This cell contains the libraries we will need.\n",
    "\n",
    "Note that the `torch` library is imported for automatic differentiation (AD), but any other AD library could\n",
    "have been substituted with ease."
   ]
  },
  {
   "cell_type": "code",
   "execution_count": 1,
   "metadata": {},
   "outputs": [],
   "source": [
    "import torch\n",
    "from torch.distributions import Normal, Gamma\n",
    "\n",
    "import numpy as np\n",
    "import matplotlib.pyplot as plt\n",
    "from tqdm import trange\n",
    "\n",
    "# Set default type to float64 (instead of float32)\n",
    "torch.set_default_dtype(torch.float64)"
   ]
  },
  {
   "cell_type": "markdown",
   "metadata": {},
   "source": [
    "Below, we implement a class called `ModelParam`.\n",
    "You'll note that `ModelParam` holds `vp` (a tensor) and `size`, which is the dimensions of the model parameters.\n",
    "At instantiation, this object creates the variational parameters -- a mean and a logged-standard deviation to a\n",
    "Normal distribution. These parameters are optimized until the ELBO is maximized. The SD is logged so that \n",
    "it can be optimized in an unconstrained fashion. Recall that in ADVI, the variational distribution is placed \n",
    "on model parameters transformed to the real space. The advantages enjoyed by doing so include (1) being able\n",
    "to re-parameterize the distribution so as to sample from a parameter free (standard Normal) distribution, \n",
    "to take the gradients of random draws from the variational distribution; and (2) modeling correlation\n",
    "between parameters, if desired."
   ]
  },
  {
   "cell_type": "code",
   "execution_count": 2,
   "metadata": {},
   "outputs": [],
   "source": [
    "# Model parameter\n",
    "class ModelParam():\n",
    "    def __init__(self, size, m=None, log_s=None):\n",
    "        if m is None:\n",
    "            # Set the mean for the unconstrained variational distribution.\n",
    "            m = torch.randn(size)\n",
    "\n",
    "        if log_s is None:\n",
    "            # Set the log standard deviation  for the unconstrained variational\n",
    "            # distribution.\n",
    "            log_s = torch.randn(size)\n",
    "\n",
    "        # Variational parameters\n",
    "        self.vp = torch.stack([m, log_s])\n",
    "        self.vp.requires_grad = True\n",
    "\n",
    "        # Dimension of the variational parameters\n",
    "        self.size = size\n",
    "\n",
    "    def dist(self):\n",
    "        # Unconstrained variational distribution -- a Gaussian always.\n",
    "        # NOTE: If the parameter (theta) of interest has positive support,\n",
    "        #       we place a Normal variational distribution on log(theta).\n",
    "        return torch.distributions.Normal(self.vp[0], self.vp[1].exp())\n",
    "\n",
    "    def rsample(self, n=torch.Size([])):\n",
    "        # NOTE: The same as:\n",
    "        # self.vp[0] + torch.randn(n) * self.vp[1].exp()\n",
    "        # Note that the random number is sampled from a (parameter-free)\n",
    "        # standard normal.\n",
    "        return self.dist().rsample(n)\n",
    "\n",
    "    def log_q(self, real):\n",
    "        # log variational density of parameter, evaluated on unonstrained\n",
    "        # space.\n",
    "        return self.dist().log_prob(real).sum()\n",
    "\n"
   ]
  },
  {
   "cell_type": "markdown",
   "metadata": {},
   "source": [
    "The linear model is:\n",
    "\n",
    "$$\n",
    "\\begin{aligned}\n",
    "y_i \\mid \\sigma, \\beta &\\sim \\text{Normal}(\\beta_0 + \\beta_1 x_i, \\sigma), \\text{ for } i = 1,\\cdots, N\\\\\n",
    "\\beta_k &\\sim \\text{Normal}(0, 1), \\text{ for } k = 0, 1 \\\\\n",
    "\\sigma &\\sim \\text{Gamma}(1, 1). \\\\\n",
    "\\end{aligned}\n",
    "$$\n",
    "\n",
    "We encode this in the following cells. Note that we need to implement\n",
    "\n",
    "1. log-likelihood\n",
    "3. the log of the prior density times absolute value of the determinant of the jacobian (since we are transforming the parameters onto the real scale)\n",
    "2. the log of the variational density (evaluated at the parameters sampled from the variational distribution)\n",
    "4. the elbo, which is done as follows:\n",
    "    - sample model parameters (on the real scale) from the variational distributions\n",
    "        - recall that to obtain parameter-samples, we first draw from a standard Normal, \n",
    "          and then multiply the sd of the variational parameter to the standard Normal, \n",
    "          and then add the variational parameter's mean.\n",
    "    - transform the real-valued parameters to their support (in this case only sigma needs to be exponentiated).\n",
    "    - Evaluate: ELBO = (1) + (2) - (3)\n",
    "\n",
    "One more thing to note here is that I multiplied the likelihood by the size of the full data, and divided by the size of the\n",
    "current data (hence the `mean(0)` in the return line of `loglike`). This enables stochastic variational inference, in\n",
    "which minibatches are employed. This can lead to huge speed-ups when analyzing large data-sets."
   ]
  },
  {
   "cell_type": "code",
   "execution_count": 3,
   "metadata": {},
   "outputs": [],
   "source": [
    "def log_prior_plus_logabsdet_J(real_params, params):\n",
    "    # log prior for beta, evaluated at sampled values for beta\n",
    "    lp_b = Normal(0, 1).log_prob(real_params['beta']).sum()\n",
    "\n",
    "    # log prior sig + log jacobian\n",
    "    lp_log_sig = (Gamma(1, 1).log_prob(params['sig']) + real_params['sig']).sum()\n",
    "\n",
    "    return lp_b + lp_log_sig\n",
    "\n",
    "def loglike(y, x, params, full_data_size):\n",
    "    beta = params['beta']\n",
    "    sig = params['sig']\n",
    "    return Normal(x.matmul(beta), sig).log_prob(y).mean(0) * full_data_size\n",
    "\n",
    "def log_q(model_params, real_params):\n",
    "    out = 0.0\n",
    "    for key in model_params:\n",
    "        out += model_params[key].log_q(real_params[key])\n",
    "    return out\n",
    "\n",
    "def elbo(y, x, model_params, full_data_size):\n",
    "    real_params = {}\n",
    "    for key in model_params:\n",
    "        real_params[key] = model_params[key].rsample()\n",
    "\n",
    "    params = {'beta': real_params['beta'],\n",
    "              'sig': real_params['sig'].exp()}\n",
    "\n",
    "    out = loglike(y, x, params, full_data_size)\n",
    "    out += log_prior_plus_logabsdet_J(real_params, params) \n",
    "    out -= log_q(model_params, real_params)\n",
    "\n",
    "    return out"
   ]
  },
  {
   "cell_type": "markdown",
   "metadata": {},
   "source": [
    "Now, we are ready to fit the model. For reproducibility, I will set seeds for the random number generators."
   ]
  },
  {
   "cell_type": "code",
   "execution_count": 4,
   "metadata": {},
   "outputs": [],
   "source": [
    "# set random number generator seeds for reproducibility\n",
    "torch.manual_seed(1)\n",
    "np.random.seed(0)"
   ]
  },
  {
   "cell_type": "markdown",
   "metadata": {},
   "source": [
    "We now generate some data. We will use 1000 samples. Note that the true values of the parameters are \n",
    "$\\beta = (2, -3)$ and $\\sigma = 0.5$. I've included a plot of the data."
   ]
  },
  {
   "cell_type": "code",
   "execution_count": 5,
   "metadata": {},
   "outputs": [
    {
     "data": {
      "image/png": "[encoded data removed]",
      "text/plain": [
       "<Figure size 432x288 with 1 Axes>"
      ]
     },
     "metadata": {
      "needs_background": "light"
     },
     "output_type": "display_data"
    }
   ],
   "source": [
    "# Generate data\n",
    "N = 1000\n",
    "x = torch.stack([torch.ones(N), torch.randn(N)], -1)\n",
    "k = x.shape[1]\n",
    "beta = torch.tensor([2., -3.])\n",
    "sig = 0.5\n",
    "y = Normal(x.matmul(beta), sig).rsample()\n",
    "\n",
    "# Plot data\n",
    "plt.scatter(x[:, 1].numpy(), y.numpy())\n",
    "plt.xlabel(\"x\")\n",
    "plt.ylabel(\"y\")\n",
    "plt.show()"
   ]
  },
  {
   "cell_type": "markdown",
   "metadata": {},
   "source": [
    "The model is fit in this cell. We first define the model parameters in `model_params` in a dictionary.\n",
    "All only need to specify the size for the initialization, the initial values for the variational parameters are drawn from a standard normal.\n",
    "Recall that the variational parameters are the mean and SD of the Normal, but the SD is stored as the logged SD in the class.\n",
    "\n",
    "We use the Adam optimizer with a learning rate of 0.1. This may seem large, but we will see that it is not.\n",
    "\n",
    "We do Stochastic gradient descent (SGD) for 1000 iterations. Each iteration, we subsample 100 observations from the original data.\n",
    "We compute the loss (as torch minimizes objectives) by computing the negative of the elbo divided by the size of the full data ($N$).\n",
    "Dividing the elbo by $N$ allows us to use a larger learning rate (`lr`). This is not a huge deal, but most of the time, I can\n",
    "just use a default learning rate of 0.1 by scaling the ELBO.\n",
    "\n",
    "You need to manually set the gradients to zero before computing the gradients (in `loss.backward()`, as the default behavior \n",
    "of the library is to accumulate gradients. `loss.backward()` signals the gradient computation. `optimizer.step()` signals\n",
    "the modification of the (variational) parameters based on the gradients.\n",
    "\n",
    "I print out statements to show the progression of the model fitting. As you can see, it takes only a few second to get decent results."
   ]
  },
  {
   "cell_type": "code",
   "execution_count": 6,
   "metadata": {},
   "outputs": [
    {
     "name": "stderr",
     "output_type": "stream",
     "text": [
      "ELBO: -0.8149844798486972: 100%|██████████| 3000/3000 [00:11<00:00, 261.55it/s]\n"
     ]
    }
   ],
   "source": [
    "model_params = {'beta': ModelParam(size=k), 'sig': ModelParam(size=1)}\n",
    "optimizer = torch.optim.Adam([model_params[key].vp for key in model_params], lr=.1)\n",
    "elbo_hist = []\n",
    "\n",
    "max_iter = 3000\n",
    "minibatch_size = 100\n",
    "torch.manual_seed(1)\n",
    "\n",
    "# This basically creates a progress bar for SGD. max_iter determines the final iteration.\n",
    "# mininterval determines how often the progress bar is updated (every 1 second here).\n",
    "iters = trange(max_iter, mininterval=1)\n",
    "\n",
    "# Stochastic gradient descent\n",
    "for t in iters:\n",
    "    sample_with_replacement = minibatch_size > N\n",
    "    idx = np.random.choice(N, minibatch_size, replace=sample_with_replacement)\n",
    "    loss = -elbo(y[idx], x[idx, :], model_params, full_data_size=N) / N\n",
    "    elbo_hist.append(-loss.item())\n",
    "    optimizer.zero_grad()\n",
    "    loss.backward()\n",
    "    optimizer.step()\n",
    "\n",
    "    # Print progress bar\n",
    "    iters.set_description('ELBO: {}'.format(elbo_hist[-1]), refresh=False)"
   ]
  },
  {
   "cell_type": "markdown",
   "metadata": {},
   "source": [
    "We plot the elbo history, which seems to indicate convergence."
   ]
  },
  {
   "cell_type": "code",
   "execution_count": 7,
   "metadata": {},
   "outputs": [
    {
     "data": {
      "image/png": "[encoded data removed]",
      "text/plain": [
       "<Figure size 432x288 with 1 Axes>"
      ]
     },
     "metadata": {
      "needs_background": "light"
     },
     "output_type": "display_data"
    },
    {
     "data": {
      "image/png": "[encoded data removed]",
      "text/plain": [
       "<Figure size 432x288 with 1 Axes>"
      ]
     },
     "metadata": {
      "needs_background": "light"
     },
     "output_type": "display_data"
    }
   ],
   "source": [
    "# Plot ELBO history\n",
    "plt.plot(elbo_hist)\n",
    "plt.title('complete elbo history')\n",
    "plt.show()\n",
    "\n",
    "# Plot ELBO history (after 100-th iteration)\n",
    "plt.plot(elbo_hist[1000:])\n",
    "plt.title('tail of elbo history')\n",
    "plt.show()"
   ]
  },
  {
   "cell_type": "markdown",
   "metadata": {},
   "source": [
    "We inspect the statistics of the posterior in this cell.\n",
    "The posterior mean and SD are printed. They are consistent with the true values.\n"
   ]
  },
  {
   "cell_type": "code",
   "execution_count": 8,
   "metadata": {},
   "outputs": [
    {
     "name": "stdout",
     "output_type": "stream",
     "text": [
      "True beta: [ 2. -3.]\n",
      "beta mean: [ 1.99261658 -3.08685975]\n",
      "beta sd: [0.02348985 0.01433441]\n",
      "\n",
      "True sigma: 0.5\n",
      "sig mean: 0.5246807576382299 | sig sd: 0.025474909031553427\n"
     ]
    }
   ],
   "source": [
    "# Inspect posterior\n",
    "nsamps = 1000\n",
    "sig_post = model_params['sig'].rsample([nsamps]).exp().detach().numpy()\n",
    "print('True beta: {}'.format(beta.detach().numpy()))\n",
    "print('beta mean: {}'.format(model_params['beta'].vp[0].detach().numpy()))\n",
    "print('beta sd: {}'.format(model_params['beta'].vp[1].exp().detach().numpy()))\n",
    "print()\n",
    "\n",
    "print('True sigma: {}'.format(sig))\n",
    "print('sig mean: {} | sig sd: {}'.format(sig_post.mean(), sig_post.std()))"
   ]
  },
  {
   "cell_type": "markdown",
   "metadata": {},
   "source": [
    "This concludes this tutorial. I hope you found it useful. I will be posting a few more examples, including\n",
    "\n",
    "- Logistic regression\n",
    "- Gaussian mixture models (and how to get cluster membership)\n",
    "- handling missing values"
   ]
  }
 ],
 "metadata": {
  "@webio": {
   "lastCommId": null,
   "lastKernelId": null
  },
  "kernelspec": {
   "display_name": "Python 3",
   "language": "python",
   "name": "python3"
  },
  "language_info": {
   "codemirror_mode": {
    "name": "ipython",
    "version": 3
   },
   "file_extension": ".py",
   "mimetype": "text/x-python",
   "name": "python",
   "nbconvert_exporter": "python",
   "pygments_lexer": "ipython3",
   "version": "3.6.9"
  }
 },
 "nbformat": 4,
 "nbformat_minor": 2
}
